{
 "cells": [
  {
   "cell_type": "markdown",
   "id": "69e92dc1-8687-448f-b23f-3e723906659d",
   "metadata": {},
   "source": [
    "## Classes\n",
    "\n",
    "In Python, a **class** is a blueprint for creating objects. It allows us to bundle data (attributes) and functions (methods) that work on that data into a single unit. Objects created using a class are called instances. Classes help us model real-world objects or data structures in an organized way.\n",
    "\n",
    "What is a Class? \n",
    "\n",
    "A class defines the structure and behavior of objects. Think of it as a template. When you create an instance of a class, it contains the variables and methods defined within that class.\n",
    "\n",
    "Why Class?\n",
    "\n",
    "Classes help us organize code in a reusable and modular way. With the **LinkedList** class, we can easily manage the data and the methods related to that data structure. We could create multiple linked list instances, and each would behave independently but according to the same set of rules defined in the class.\n",
    "\n",
    "For every one of data structure we are going to use classes, e.g. \n",
    "\n",
    "if we were to create a **LinkedList** class, the class would define how the linked list behaves, such as how to append, pop, or insert items.\n",
    "```\n",
    "class LinkedList:\n",
    "    def __init__(self, value):\n",
    "\n",
    "    def append(self, value):\n",
    "\n",
    "    def pop(self):\n",
    "\n",
    "    def prepend(self, value):\n",
    "\n",
    "    def insert(self, index, value):\n",
    "\n",
    "    def remove(self, index):\n",
    "```\n",
    "\n",
    "- **`__init__` (Constructor):** This method is called when an instance of the class is created. It initializes the linked list with a single value."
   ]
  },
  {
   "cell_type": "code",
   "execution_count": 1,
   "id": "4b2aa576-f627-4fc3-b4f6-e35afc139236",
   "metadata": {},
   "outputs": [
    {
     "name": "stdout",
     "output_type": "stream",
     "text": [
      "Cookie one is green\n",
      "Cookie two is blue\n",
      "\n",
      "Cookie one is now yellow\n",
      "Cookie two is still blue\n"
     ]
    }
   ],
   "source": [
    "class Cookie:\n",
    "    def __init__(self, color):\n",
    "        self.color = color\n",
    "\n",
    "    def get_color(self):\n",
    "        return self.color\n",
    "\n",
    "    def set_color(self, color):\n",
    "        self.color = color\n",
    "\n",
    "\n",
    "cookie_one = Cookie('green')\n",
    "cookie_two = Cookie('blue')\n",
    "\n",
    "print('Cookie one is', cookie_one.get_color())\n",
    "print('Cookie two is', cookie_two.get_color())\n",
    "\n",
    "cookie_one.set_color('yellow')\n",
    "\n",
    "print('\\nCookie one is now', cookie_one.get_color())\n",
    "print('Cookie two is still', cookie_two.get_color())\n"
   ]
  }
 ],
 "metadata": {
  "kernelspec": {
   "display_name": "Python 3 (ipykernel)",
   "language": "python",
   "name": "python3"
  },
  "language_info": {
   "codemirror_mode": {
    "name": "ipython",
    "version": 3
   },
   "file_extension": ".py",
   "mimetype": "text/x-python",
   "name": "python",
   "nbconvert_exporter": "python",
   "pygments_lexer": "ipython3",
   "version": "3.12.4"
  }
 },
 "nbformat": 4,
 "nbformat_minor": 5
}
