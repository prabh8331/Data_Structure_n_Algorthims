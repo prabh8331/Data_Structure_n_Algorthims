{
 "cells": [
  {
   "cell_type": "markdown",
   "metadata": {},
   "source": [
    "## Big O\n",
    "\n",
    "Big O is a way of comparing code one and code two mathematically about how efficient they run.\n",
    "\n",
    "Time complexity: it is measured in the number of operations that it takes to complete something\n",
    "\n",
    "\n",
    "Space compexity: Space taken by code to run\n",
    "\n",
    "Types of scenario:\n",
    "Omega- Best case scenario to when code run\n",
    "Theta- Average case scenario\n",
    "Omicron- Worst case scenario (Big O is always the worst case)\n",
    "\n",
    "\n",
    "## Big- O(n) (propotional)\n",
    "\n",
    "O(n) means that the time or number of operations required to complete the algorithm grows linearly with the size of the input, n.\n",
    "If you double the size of the input, the time to complete the operation roughly doubles as well.\n"
   ]
  },
  {
   "cell_type": "code",
   "execution_count": 2,
   "metadata": {
    "vscode": {
     "languageId": "plaintext"
    }
   },
   "outputs": [
    {
     "name": "stdout",
     "output_type": "stream",
     "text": [
      "0\n",
      "1\n",
      "2\n",
      "3\n",
      "4\n",
      "5\n",
      "6\n",
      "7\n",
      "8\n",
      "9\n"
     ]
    }
   ],
   "source": [
    "def print_items(arr):\n",
    "    for item in range(arr):\n",
    "        print(item)\n",
    "\n",
    "print_items(10)"
   ]
  },
  {
   "cell_type": "code",
   "execution_count": null,
   "metadata": {},
   "outputs": [],
   "source": []
  }
 ],
 "metadata": {
  "kernelspec": {
   "display_name": "Python 3 (ipykernel)",
   "language": "python",
   "name": "python3"
  },
  "language_info": {
   "codemirror_mode": {
    "name": "ipython",
    "version": 3
   },
   "file_extension": ".py",
   "mimetype": "text/x-python",
   "name": "python",
   "nbconvert_exporter": "python",
   "pygments_lexer": "ipython3",
   "version": "3.12.4"
  }
 },
 "nbformat": 4,
 "nbformat_minor": 4
}
