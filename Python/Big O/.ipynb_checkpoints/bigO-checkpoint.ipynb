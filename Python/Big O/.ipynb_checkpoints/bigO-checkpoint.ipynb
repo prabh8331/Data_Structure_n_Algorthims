{
 "cells": [
  {
   "cell_type": "markdown",
   "metadata": {},
   "source": [
    "## Big O\n",
    "\n",
    "Big O is a way of comparing code one and code two mathematically about how efficient they run.\n",
    "\n",
    "Time complexity: it is measured in the number of operations that it takes to complete something\n",
    "\n",
    "\n",
    "Space compexity: Space taken by code to run\n",
    "\n",
    "Types of scenario:\n",
    "Omega- Best case scenario to when code run\n",
    "Theta- Average case scenario\n",
    "Omicron- Worst case scenario (Big O is always the worst case)\n",
    "\n",
    "\n",
    "## Big- O(n) (propotional)\n",
    "\n",
    "O(n) means that the time or number of operations required to complete the algorithm grows linearly with the size of the input, n.\n",
    "If you double the size of the input, the time to complete the operation roughly doubles as well.\n"
   ]
  },
  {
   "cell_type": "code",
   "execution_count": null,
   "metadata": {
    "vscode": {
     "languageId": "plaintext"
    }
   },
   "outputs": [],
   "source": [
    "def print_items(arr):\n",
    "    for item in arr:\n",
    "        print(item)\n",
    "\n",
    "print_items(10)"
   ]
  }
 ],
 "metadata": {
  "language_info": {
   "name": "python"
  }
 },
 "nbformat": 4,
 "nbformat_minor": 2
}
