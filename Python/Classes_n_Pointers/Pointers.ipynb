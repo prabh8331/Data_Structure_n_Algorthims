{
 "cells": [
  {
   "cell_type": "markdown",
   "id": "772b80be-389b-4428-9990-88b4b43e3d62",
   "metadata": {},
   "source": [
    "### Pointers in Python\n",
    "\n",
    "In this example, we will explore how pointers behave differently with different data types, starting with integers.\n",
    "\n",
    "#### 1. Integers\n",
    "\n",
    "In Python, integers are immutable, meaning their values cannot be changed once they are assigned. Let's examine how pointers work with integers:\n",
    "\n",
    "##### Initial State:\n",
    "\n",
    "Consider the following code:"
   ]
  },
  {
   "cell_type": "code",
   "execution_count": 1,
   "id": "c9e2c0ca-e2b7-4abd-8a31-155a2e539f74",
   "metadata": {},
   "outputs": [
    {
     "name": "stdout",
     "output_type": "stream",
     "text": [
      "Before num2 value is updated:\n",
      "num1 = 11\n",
      "num2 = 11\n",
      "\n",
      "num1 points to: 9772136\n",
      "num2 points to: 9772136\n"
     ]
    }
   ],
   "source": [
    "num1 = 11\n",
    "\n",
    "num2 = num1\n",
    "\n",
    "print(\"Before num2 value is updated:\")\n",
    "print(\"num1 =\", num1)\n",
    "print(\"num2 =\", num2)\n",
    "\n",
    "print(\"\\nnum1 points to:\", id(num1))\n",
    "print(\"num2 points to:\", id(num2)) "
   ]
  },
  {
   "cell_type": "markdown",
   "id": "5e4b0d85-dc38-46d4-b98a-4bfb756486c5",
   "metadata": {},
   "source": [
    "Here, `num1` is assigned the integer value `11`. When we assign `num2 = num1`, both `num1` and `num2` point to the same memory location, which holds the value `11`.\n",
    "\n",
    "Visualization:\n",
    "```\n",
    "num1    num2\n",
    "  \\       /\n",
    "   \\    /\n",
    "    [11]\n",
    "```\n",
    "\n",
    "Both variables point to the same memory address, as shown by the `id()` function."
   ]
  },
  {
   "cell_type": "markdown",
   "id": "e2f50278-8f8b-476d-a395-776b8291778e",
   "metadata": {},
   "source": [
    "##### After Updating `num2`:\n",
    "\n",
    "Now, observe what happens when we change `num2` to a different value:\n"
   ]
  },
  {
   "cell_type": "code",
   "execution_count": 2,
   "id": "d1917ed9-ba94-44e7-a290-d7770115b74f",
   "metadata": {},
   "outputs": [
    {
     "name": "stdout",
     "output_type": "stream",
     "text": [
      "\n",
      "After num2 value is updated:\n",
      "num1 = 11\n",
      "num2 = 22\n",
      "\n",
      "num1 points to: 9772136\n",
      "num2 points to: 9772488\n"
     ]
    }
   ],
   "source": [
    "num2 = 22 \n",
    "\n",
    "print(\"\\nAfter num2 value is updated:\")\n",
    "print(\"num1 =\", num1)\n",
    "print(\"num2 =\", num2) \n",
    "\n",
    "print(\"\\nnum1 points to:\", id(num1))\n",
    "print(\"num2 points to:\", id(num2))\n"
   ]
  },
  {
   "cell_type": "markdown",
   "id": "a63fd9e7-f89d-4d00-af43-a6a5d7277794",
   "metadata": {},
   "source": [
    "When we update `num2 = 22`, a new integer object is created in memory for `22`. Since integers are immutable, Python doesn't modify the original value `11` in memory; instead, `num2` is now pointing to a different memory address that holds `22`, while `num1` continues pointing to `11`.\n",
    "\n",
    "Visualization:\n",
    "```\n",
    "num1      num2\n",
    "  \\        /\n",
    "   \\      /\n",
    " [11]   [22]\n",
    "```\n",
    "\n",
    "Thus, changing the value of `num2` doesn't affect `num1`, because both now point to different memory locations."
   ]
  },
  {
   "cell_type": "markdown",
   "id": "419d5957-da27-4d74-ac79-c2ae821d1e8b",
   "metadata": {},
   "source": [
    "### 2. Dictionaries\n",
    "\n",
    "In Python, dictionaries are mutable objects, meaning their contents can be changed in place. Let's explore how pointers behave with dictionaries:\n",
    "\n",
    "#### Initial State:\n",
    "\n",
    "Consider the following code:"
   ]
  },
  {
   "cell_type": "code",
   "execution_count": 3,
   "id": "1a0a8028-fff8-4fd7-8921-cf3e798a0964",
   "metadata": {},
   "outputs": [
    {
     "name": "stdout",
     "output_type": "stream",
     "text": [
      "\n",
      "\n",
      "Before value is updated:\n",
      "dict1 = {'value': 11}\n",
      "dict2 = {'value': 11}\n",
      "\n",
      "dict1 points to: 139943664392064\n",
      "dict2 points to: 139943664392064\n"
     ]
    }
   ],
   "source": [
    "dict1 = {\n",
    "         'value': 11\n",
    "        }\n",
    "\n",
    "dict2 = dict1 \n",
    "\n",
    "print(\"\\n\\nBefore value is updated:\")\n",
    "print(\"dict1 =\", dict1)\n",
    "print(\"dict2 =\", dict2)\n",
    "\n",
    "print(\"\\ndict1 points to:\", id(dict1))\n",
    "print(\"dict2 points to:\", id(dict2)) "
   ]
  },
  {
   "cell_type": "markdown",
   "id": "ff072f0a-3257-4893-b7c7-e7acc5b92827",
   "metadata": {},
   "source": [
    "Here, `dict1` is assigned a dictionary object `{'value': 11}`. When we assign `dict2 = dict1`, both `dict1` and `dict2` point to the same dictionary in memory.\n",
    "\n",
    "Visualization:\n",
    "```\n",
    "dict1    dict2\n",
    "  \\       /\n",
    "   \\    /\n",
    "{'value': 11}\n",
    "```\n",
    "\n",
    "Since dictionaries are mutable, both variables point to the same memory address, and any change in one will affect the other.\n",
    "\n",
    "#### After Updating `dict2`:\n",
    "\n",
    "Now, let’s update the value in `dict2`:"
   ]
  },
  {
   "cell_type": "code",
   "execution_count": 4,
   "id": "c70347f7-3525-4a62-b76c-1359da52dd69",
   "metadata": {},
   "outputs": [
    {
     "name": "stdout",
     "output_type": "stream",
     "text": [
      "\n",
      "After value is updated:\n",
      "dict1 = {'value': 22}\n",
      "dict2 = {'value': 22}\n",
      "\n",
      "dict1 points to: 139943664392064\n",
      "dict2 points to: 139943664392064\n"
     ]
    }
   ],
   "source": [
    "dict2['value'] = 22\n",
    "\n",
    "print(\"\\nAfter value is updated:\")\n",
    "print(\"dict1 =\", dict1)\n",
    "print(\"dict2 =\", dict2) \n",
    "\n",
    "print(\"\\ndict1 points to:\", id(dict1))\n",
    "print(\"dict2 points to:\", id(dict2))\n"
   ]
  },
  {
   "cell_type": "markdown",
   "id": "6893b892-410c-4cb4-8a57-72255c157945",
   "metadata": {},
   "source": [
    "Since `dict1` and `dict2` both reference the same dictionary, changing the value in `dict2` also affects `dict1`. This is because both variables point to the same memory location.\n",
    "\n",
    "Visualization remains the same:\n",
    "```\n",
    "dict1    dict2\n",
    "  \\       /\n",
    "   \\    /\n",
    "{'value': 22}\n",
    "```\n",
    "\n",
    "This behavior is different from integers, which are immutable. With dictionaries, the underlying object can be modified without changing the reference.\n",
    "\n",
    "#### Reassigning `dict2` to a New Dictionary:\n",
    "\n",
    "Now, let’s assign `dict2` to a new dictionary:"
   ]
  },
  {
   "cell_type": "code",
   "execution_count": 6,
   "id": "6d1e98c1-493d-4e6a-b293-a3b153e68cc5",
   "metadata": {},
   "outputs": [
    {
     "name": "stdout",
     "output_type": "stream",
     "text": [
      "\n",
      "After dict2=dict3:\n",
      "dict2 = {'value': 33}\n",
      "dict3 = {'value': 33}\n",
      "\n",
      "dict1 points to: 139943664392064\n",
      "\n",
      "dict2 points to: 139943664393088\n",
      "dict3 points to: 139943664393088\n"
     ]
    }
   ],
   "source": [
    "dict3 = {\n",
    "         'value': 33\n",
    "        }\n",
    "dict2 = dict3\n",
    "\n",
    "print(\"\\nAfter dict2=dict3:\")\n",
    "print(\"dict2 =\", dict2)\n",
    "print(\"dict3 =\", dict3) \n",
    "\n",
    "print(\"\\ndict1 points to:\", id(dict1))\n",
    "print(\"\\ndict2 points to:\", id(dict2))\n",
    "print(\"dict3 points to:\", id(dict3))"
   ]
  },
  {
   "cell_type": "markdown",
   "id": "23463f66-8532-4495-ab89-feb7e06aba5c",
   "metadata": {},
   "source": [
    "After `dict2 = dict3`, `dict2` no longer points to the same dictionary as `dict1`. Instead, it points to a new dictionary `{ 'value': 33 }`. Meanwhile, `dict1` still points to the original dictionary with the updated value `22`.\n",
    "\n",
    "Visualization:\n",
    "```\n",
    "dict1         dict2   dict3\n",
    "  \\             \\        /\n",
    "   \\             \\      /\n",
    "{'value': 22}   {'value': 33}\n",
    "```\n",
    "\n",
    "#### Changing `dict1` to Point to `dict2`:\n",
    "\n",
    "If we now make `dict1` point to the same dictionary as `dict2`, the original dictionary `{'value': 22}` becomes inaccessible:"
   ]
  },
  {
   "cell_type": "code",
   "execution_count": 7,
   "id": "92b7bdcc-c7dd-4b54-a2b0-122a88f76770",
   "metadata": {},
   "outputs": [
    {
     "name": "stdout",
     "output_type": "stream",
     "text": [
      "\n",
      "After dict1=dict2:\n",
      "dict2 = {'value': 33}\n",
      "dict3 = {'value': 33}\n",
      "\n",
      "dict1 points to: 139943664393088\n",
      "\n",
      "dict2 points to: 139943664393088\n",
      "dict3 points to: 139943664393088\n"
     ]
    }
   ],
   "source": [
    "dict1=dict2\n",
    "\n",
    "print(\"\\nAfter dict1=dict2:\")\n",
    "print(\"dict2 =\", dict1)\n",
    "print(\"dict3 =\", dict2) \n",
    "\n",
    "print(\"\\ndict1 points to:\", id(dict1))\n",
    "print(\"\\ndict2 points to:\", id(dict2))\n",
    "print(\"dict3 points to:\", id(dict3))"
   ]
  },
  {
   "cell_type": "markdown",
   "id": "e4429a32-9262-4c7d-a399-8e0a8f6d2482",
   "metadata": {},
   "source": [
    "Now, `dict1`, `dict2`, and `dict3` all point to the same dictionary `{'value': 33}`. The original dictionary `{'value': 22}` is no longer referenced by any variable. Since nothing points to it, Python will automatically remove it through a process called **Garbage Collection**.\n",
    "\n",
    "Visualization:\n",
    "```\n",
    "dict1   dict2   dict3\n",
    "  \\       |       /\n",
    "   \\      |      /\n",
    "  {'value': 33}\n",
    "```\n",
    "\n",
    "This is an important concept in data structures and algorithms, especially when working with mutable objects like linked lists, where nodes operate similarly to dictionaries. Changes to a node's value affect all variables referencing that node, unless the reference is explicitly reassigned.\n"
   ]
  },
  {
   "cell_type": "markdown",
   "id": "3be16b30-be60-4f3c-b389-6359b98e82be",
   "metadata": {},
   "source": [
    "Garbage collection (GC) is an automatic memory management feature in many programming languages, including Python. Its main job is to free up memory that is no longer being used by the program, so the system can reuse it for other processes. In Python, garbage collection works in tandem with reference counting and a cyclic garbage collector."
   ]
  }
 ],
 "metadata": {
  "kernelspec": {
   "display_name": "Python 3 (ipykernel)",
   "language": "python",
   "name": "python3"
  },
  "language_info": {
   "codemirror_mode": {
    "name": "ipython",
    "version": 3
   },
   "file_extension": ".py",
   "mimetype": "text/x-python",
   "name": "python",
   "nbconvert_exporter": "python",
   "pygments_lexer": "ipython3",
   "version": "3.12.4"
  }
 },
 "nbformat": 4,
 "nbformat_minor": 5
}
