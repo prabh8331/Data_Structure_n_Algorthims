{
 "cells": [
  {
   "cell_type": "markdown",
   "id": "d2be4578-7390-4c9a-814f-b53243abfcf1",
   "metadata": {
    "jp-MarkdownHeadingCollapsed": true
   },
   "source": [
    "### Linked List vs. Normal List (Array)\n",
    "\n",
    "A **Linked List** and a **Normal List** (Array) are both used to store collections of elements, but they work very differently in terms of structure and performance.\n",
    "\n",
    "### Normal List (Array)\n",
    "- **Structure**: Elements are stored in **contiguous** memory with indexed access.\n",
    "- **Access**: Direct access via index (`O(1)` access time).\n",
    "- **Size**: Fixed size in some languages or needs resizing (which can be costly).\n",
    "- **Insertion/Deletion**: Expensive in the middle (`O(n)`), as shifting elements is required.\n",
    "\n",
    "### Python List (Dynamic Array)\n",
    "- **Structure**: Internally backed by a dynamic array that resizes as needed.\n",
    "- **Access**: Direct access via index (`O(1)` access time).\n",
    "- **Size**: Dynamic; Python manages resizing automatically.\n",
    "- **Insertion/Deletion**: Expensive in the middle (`O(n)`), as shifting elements is required, but appending to the end is `O(1)` amortized.\n",
    "\n",
    "##### Example:\n",
    "```\n",
    "Index:  0     1     2     3     4\n",
    "       [10]  [20]  [30]  [40]  [50]\n",
    "```\n",
    "Here, each element is stored one after the other in memory, allowing direct access via index (e.g., `list[2]` gives `30`).\n",
    "\n",
    "### Linked List\n",
    "- **Structure**: Each node contains data and a pointer to the next node.\n",
    "- **Access**: Sequential access(`O(n)`),as you must traverse the list starting from the head.\n",
    "- **Size**: Dynamic; can grow/shrink easily.\n",
    "- **Insertion/Deletion**: Efficient for insertions and deletions at any position (`O(1)` for head/tail), no shifting is required.\n",
    "\n",
    "### Linked List in Python\n",
    "\n",
    "Python doesn't have a built-in linked list. To implement a **linked list**, you have to manually define a class structure for the nodes and the linked list behavior. The linked list will behave as you described, with nodes having pointers to the next element.\n",
    "\n",
    "##### Example:\n",
    "```\n",
    "Head → [10] → [20] → [30] → [40] → [50] → None\n",
    "                                 ↑\n",
    "                               Tail\n",
    "```\n",
    "- **Head**: Points to the first node.\n",
    "- **Tail**: Points to the last node (`None` indicates the end of the list).\n",
    "- Each node has a pointer to the next node in memory. You must traverse the list to access specific nodes.\n",
    "\n",
    "### Key Differences:\n",
    "- **Memory**: Lists use contiguous memory, while linked lists use scattered memory.\n",
    "- **Access**: Lists offer fast random access; linked lists require traversal.\n",
    "- **Operations**: Linked lists excel at insertions/deletions, while lists excel at access.\n"
   ]
  }
 ],
 "metadata": {
  "kernelspec": {
   "display_name": "Python 3 (ipykernel)",
   "language": "python",
   "name": "python3"
  },
  "language_info": {
   "codemirror_mode": {
    "name": "ipython",
    "version": 3
   },
   "file_extension": ".py",
   "mimetype": "text/x-python",
   "name": "python",
   "nbconvert_exporter": "python",
   "pygments_lexer": "ipython3",
   "version": "3.12.4"
  }
 },
 "nbformat": 4,
 "nbformat_minor": 5
}
